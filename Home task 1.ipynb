{
 "cells": [
  {
   "cell_type": "code",
   "execution_count": 1,
   "metadata": {},
   "outputs": [],
   "source": [
    "import pandas as pd\n",
    "import matplotlib.pyplot as plt\n",
    "import numpy as np\n",
    "import seaborn as sns\n",
    "import datetime\n",
    "import random\n",
    "from statsmodels.stats.power import tt_ind_solve_power\n",
    "\n",
    "def date_converter(x):\n",
    "    return datetime.datetime.strptime(x,'%Y-%m-%d')"
   ]
  },
  {
   "cell_type": "markdown",
   "metadata": {},
   "source": [
    "Срок выполнения задания: 17 марта 17:00.\n",
    "\n",
    "\n",
    "### Задание\n",
    "Вам предстоит разработать дизайн эксперимента по тестированию монетизационных продуктов.\n",
    "В конечном счёте, в монтизационных продуктах нас всегда интересует увеличение выручки, \n",
    "но к сожалению не всегда мы можем зафиксировать изменение именно этой метрики.\n",
    "\n",
    "#### Кейс\n",
    "Вы аналитик в продуктовой дискавери команде.\n",
    "На текущий момент приближается начало нового квартала и вам необходимо спланировать\n",
    "эксперименты в нём.\n",
    "\n",
    "У вас есть два продукта:\n",
    "- один базовый продукт, который предоставляет минимальный набор услуг на вашем ресурсе;\n",
    "- один продвинутый продукт, который предоставляет расширенный набор услуг.\n",
    "\n",
    "На текущий момент на квартал у вашей команды есть для проверки две гипотезы:\n",
    "- Дополнительное информирование об эффективности услуг будет стимулировать их покупку;\n",
    "- Повышение цены базового продукта должно стимулировать покупку продвинутого продукта\n"
   ]
  },
  {
   "cell_type": "markdown",
   "metadata": {},
   "source": [
    "#### Для планирования эксперимента изучите данные и метрики (2 балла):\n",
    "\n",
    "- Загрузите файл и изучите данные;\n",
    "- Подумайте над тем, какие метрики можно выделить на основе этих данных: выручка, пользователи, транзакции, средний чек и т.д.\n",
    "- Постройте графики плотности распределения для этих метрик и сделайте выводы о характере распределений: тип, наличие выбросов, насколько сильный разброс;\n",
    "- Изучите основные статистики этих метрик: среднее, стандартное отклонение;\n",
    "- Изучите то, насколько эти статистики подвержены сезональности.\n",
    "\n",
    "\n",
    "#### Формализуйте гипотезы (4 балла):\n",
    "\n",
    "- Опишите метрики и статистики, изменение которых вы ожидаете;\n",
    "- Предположите какое относительное изменение этих статистик в процентах вы ожидаете.\n",
    "\n",
    "#### Предскажите минимально детектируемый эффект для своих метрик и спланируйте эксперименты внутри квартала (4 балла):\n",
    "\n",
    "- Принимая в расчёт максимально возможные размеры групп и ограничения по длительности в квартал рассмотрите разные планы проведения тестов и предскажите их чувствительность;\n",
    "- Определите наиболее оптимальный план экспериментов. Обоснуйте, почему вы его считаете оптимальным.\n",
    "\n",
    "\n",
    "#### * Оптимизация плана (2 балла):\n",
    "Предложите варианты ускорения экспериментов — всегда могут образоваться ситуации, когда ваши гипотезы не подтвердились и они требуют изменения или уточнения и необходимости повторных тестов. Цели достигать всегда хорошо в рамках отведённого на них срока. Какие параметры экспериментов вы поменяете? К каким последствиям могут привести такие изменения?"
   ]
  },
  {
   "cell_type": "markdown",
   "metadata": {},
   "source": [
    "#### Описание данныx\n",
    "\n",
    "event_date - дата \n",
    "\n",
    "user_id - идентификатор пользователя\n",
    "\n",
    "product - тип продукта\n",
    "\n",
    "amount - сумма покупок\n",
    "\n",
    "transactions - количество транзакций\n"
   ]
  },
  {
   "cell_type": "code",
   "execution_count": 2,
   "metadata": {},
   "outputs": [],
   "source": [
    "df = pd.read_csv('user_transactions.csv')\n",
    "df['event_date']=df.event_date.apply(date_converter)"
   ]
  },
  {
   "cell_type": "code",
   "execution_count": 7,
   "metadata": {},
   "outputs": [],
   "source": [
    "df['aov'] = df.apply(lambda row: row.amount/row.transactions, axis = 1) #Делаем столбец со средним чеком"
   ]
  },
  {
   "cell_type": "code",
   "execution_count": 8,
   "metadata": {},
   "outputs": [
    {
     "data": {
      "text/html": [
       "<div>\n",
       "<style scoped>\n",
       "    .dataframe tbody tr th:only-of-type {\n",
       "        vertical-align: middle;\n",
       "    }\n",
       "\n",
       "    .dataframe tbody tr th {\n",
       "        vertical-align: top;\n",
       "    }\n",
       "\n",
       "    .dataframe thead th {\n",
       "        text-align: right;\n",
       "    }\n",
       "</style>\n",
       "<table border=\"1\" class=\"dataframe\">\n",
       "  <thead>\n",
       "    <tr style=\"text-align: right;\">\n",
       "      <th></th>\n",
       "      <th>event_date</th>\n",
       "      <th>user_id</th>\n",
       "      <th>product</th>\n",
       "      <th>amount</th>\n",
       "      <th>transactions</th>\n",
       "      <th>aov</th>\n",
       "    </tr>\n",
       "  </thead>\n",
       "  <tbody>\n",
       "    <tr>\n",
       "      <th>0</th>\n",
       "      <td>2020-09-29</td>\n",
       "      <td>40746820883461494</td>\n",
       "      <td>basic</td>\n",
       "      <td>95.0</td>\n",
       "      <td>1</td>\n",
       "      <td>95.0</td>\n",
       "    </tr>\n",
       "    <tr>\n",
       "      <th>1</th>\n",
       "      <td>2020-09-29</td>\n",
       "      <td>41102328408008828</td>\n",
       "      <td>advanced</td>\n",
       "      <td>279.0</td>\n",
       "      <td>1</td>\n",
       "      <td>279.0</td>\n",
       "    </tr>\n",
       "    <tr>\n",
       "      <th>2</th>\n",
       "      <td>2020-09-29</td>\n",
       "      <td>63464894315144075</td>\n",
       "      <td>basic</td>\n",
       "      <td>64.0</td>\n",
       "      <td>1</td>\n",
       "      <td>64.0</td>\n",
       "    </tr>\n",
       "    <tr>\n",
       "      <th>3</th>\n",
       "      <td>2020-09-29</td>\n",
       "      <td>111526991873455341</td>\n",
       "      <td>basic</td>\n",
       "      <td>399.0</td>\n",
       "      <td>1</td>\n",
       "      <td>399.0</td>\n",
       "    </tr>\n",
       "    <tr>\n",
       "      <th>4</th>\n",
       "      <td>2020-09-29</td>\n",
       "      <td>169522572963414231</td>\n",
       "      <td>basic</td>\n",
       "      <td>199.0</td>\n",
       "      <td>1</td>\n",
       "      <td>199.0</td>\n",
       "    </tr>\n",
       "    <tr>\n",
       "      <th>5</th>\n",
       "      <td>2020-09-29</td>\n",
       "      <td>198859200434938543</td>\n",
       "      <td>basic</td>\n",
       "      <td>89.0</td>\n",
       "      <td>1</td>\n",
       "      <td>89.0</td>\n",
       "    </tr>\n",
       "    <tr>\n",
       "      <th>6</th>\n",
       "      <td>2020-09-29</td>\n",
       "      <td>238808923434750914</td>\n",
       "      <td>basic</td>\n",
       "      <td>79.0</td>\n",
       "      <td>1</td>\n",
       "      <td>79.0</td>\n",
       "    </tr>\n",
       "    <tr>\n",
       "      <th>7</th>\n",
       "      <td>2020-09-29</td>\n",
       "      <td>256797328216193669</td>\n",
       "      <td>basic</td>\n",
       "      <td>229.0</td>\n",
       "      <td>1</td>\n",
       "      <td>229.0</td>\n",
       "    </tr>\n",
       "    <tr>\n",
       "      <th>8</th>\n",
       "      <td>2020-09-29</td>\n",
       "      <td>303768977694772373</td>\n",
       "      <td>basic</td>\n",
       "      <td>70.0</td>\n",
       "      <td>1</td>\n",
       "      <td>70.0</td>\n",
       "    </tr>\n",
       "    <tr>\n",
       "      <th>9</th>\n",
       "      <td>2020-09-29</td>\n",
       "      <td>314919079237057602</td>\n",
       "      <td>advanced</td>\n",
       "      <td>280.0</td>\n",
       "      <td>1</td>\n",
       "      <td>280.0</td>\n",
       "    </tr>\n",
       "  </tbody>\n",
       "</table>\n",
       "</div>"
      ],
      "text/plain": [
       "  event_date             user_id   product  amount  transactions    aov\n",
       "0 2020-09-29   40746820883461494     basic    95.0             1   95.0\n",
       "1 2020-09-29   41102328408008828  advanced   279.0             1  279.0\n",
       "2 2020-09-29   63464894315144075     basic    64.0             1   64.0\n",
       "3 2020-09-29  111526991873455341     basic   399.0             1  399.0\n",
       "4 2020-09-29  169522572963414231     basic   199.0             1  199.0\n",
       "5 2020-09-29  198859200434938543     basic    89.0             1   89.0\n",
       "6 2020-09-29  238808923434750914     basic    79.0             1   79.0\n",
       "7 2020-09-29  256797328216193669     basic   229.0             1  229.0\n",
       "8 2020-09-29  303768977694772373     basic    70.0             1   70.0\n",
       "9 2020-09-29  314919079237057602  advanced   280.0             1  280.0"
      ]
     },
     "execution_count": 8,
     "metadata": {},
     "output_type": "execute_result"
    }
   ],
   "source": [
    "df.head(10)"
   ]
  },
  {
   "cell_type": "markdown",
   "metadata": {},
   "source": [
    "Можно проверить следующие метрики: выручка (сумма amount по user_id дает выручку на одного пользователя), число транзакций (сумма transactions по user_id даст число транзакций на пользователя) и средний чек (сумма aov по user_id/число транзакций по user_id)."
   ]
  },
  {
   "cell_type": "code",
   "execution_count": 55,
   "metadata": {},
   "outputs": [
    {
     "data": {
      "text/html": [
       "<div>\n",
       "<style scoped>\n",
       "    .dataframe tbody tr th:only-of-type {\n",
       "        vertical-align: middle;\n",
       "    }\n",
       "\n",
       "    .dataframe tbody tr th {\n",
       "        vertical-align: top;\n",
       "    }\n",
       "\n",
       "    .dataframe thead th {\n",
       "        text-align: right;\n",
       "    }\n",
       "</style>\n",
       "<table border=\"1\" class=\"dataframe\">\n",
       "  <thead>\n",
       "    <tr style=\"text-align: right;\">\n",
       "      <th></th>\n",
       "      <th>transactions</th>\n",
       "      <th>amount</th>\n",
       "      <th>aov</th>\n",
       "    </tr>\n",
       "    <tr>\n",
       "      <th>user_id</th>\n",
       "      <th></th>\n",
       "      <th></th>\n",
       "      <th></th>\n",
       "    </tr>\n",
       "  </thead>\n",
       "  <tbody>\n",
       "    <tr>\n",
       "      <th>1809139296429</th>\n",
       "      <td>1</td>\n",
       "      <td>980.0</td>\n",
       "      <td>980.000</td>\n",
       "    </tr>\n",
       "    <tr>\n",
       "      <th>1912219714366</th>\n",
       "      <td>3</td>\n",
       "      <td>300.0</td>\n",
       "      <td>100.000</td>\n",
       "    </tr>\n",
       "    <tr>\n",
       "      <th>23708868092799</th>\n",
       "      <td>16</td>\n",
       "      <td>1094.0</td>\n",
       "      <td>68.375</td>\n",
       "    </tr>\n",
       "    <tr>\n",
       "      <th>45305541518475</th>\n",
       "      <td>2</td>\n",
       "      <td>158.0</td>\n",
       "      <td>79.000</td>\n",
       "    </tr>\n",
       "    <tr>\n",
       "      <th>51991933272698</th>\n",
       "      <td>2</td>\n",
       "      <td>199.0</td>\n",
       "      <td>99.500</td>\n",
       "    </tr>\n",
       "    <tr>\n",
       "      <th>87029396555710</th>\n",
       "      <td>1</td>\n",
       "      <td>159.0</td>\n",
       "      <td>159.000</td>\n",
       "    </tr>\n",
       "    <tr>\n",
       "      <th>88433173713624</th>\n",
       "      <td>5</td>\n",
       "      <td>245.0</td>\n",
       "      <td>49.000</td>\n",
       "    </tr>\n",
       "    <tr>\n",
       "      <th>119592742492283</th>\n",
       "      <td>4</td>\n",
       "      <td>140.0</td>\n",
       "      <td>8.750</td>\n",
       "    </tr>\n",
       "    <tr>\n",
       "      <th>126676868571860</th>\n",
       "      <td>1</td>\n",
       "      <td>50.0</td>\n",
       "      <td>50.000</td>\n",
       "    </tr>\n",
       "    <tr>\n",
       "      <th>130191741834922</th>\n",
       "      <td>1</td>\n",
       "      <td>159.0</td>\n",
       "      <td>159.000</td>\n",
       "    </tr>\n",
       "  </tbody>\n",
       "</table>\n",
       "</div>"
      ],
      "text/plain": [
       "                 transactions  amount      aov\n",
       "user_id                                       \n",
       "1809139296429               1   980.0  980.000\n",
       "1912219714366               3   300.0  100.000\n",
       "23708868092799             16  1094.0   68.375\n",
       "45305541518475              2   158.0   79.000\n",
       "51991933272698              2   199.0   99.500\n",
       "87029396555710              1   159.0  159.000\n",
       "88433173713624              5   245.0   49.000\n",
       "119592742492283             4   140.0    8.750\n",
       "126676868571860             1    50.0   50.000\n",
       "130191741834922             1   159.0  159.000"
      ]
     },
     "execution_count": 55,
     "metadata": {},
     "output_type": "execute_result"
    }
   ],
   "source": [
    "#Агрегируем по обоим продуктам \n",
    "df_aggs = df.groupby(['user_id']).agg({'transactions': 'sum', 'amount': 'sum', 'aov': 'sum'})\n",
    "df_aggs['aov'] = df_aggs['aov']/df_aggs['transactions']\n",
    "df_aggs.head(10)"
   ]
  },
  {
   "cell_type": "code",
   "execution_count": 37,
   "metadata": {},
   "outputs": [
    {
     "data": {
      "text/plain": [
       "<AxesSubplot:ylabel='Frequency'>"
      ]
     },
     "execution_count": 37,
     "metadata": {},
     "output_type": "execute_result"
    },
    {
     "data": {
      "image/png": "[encoded data removed]",
      "text/plain": [
       "<Figure size 432x288 with 1 Axes>"
      ]
     },
     "metadata": {
      "needs_background": "light"
     },
     "output_type": "display_data"
    }
   ],
   "source": [
    "df_aggs['amount'].plot.hist(bins = 10)"
   ]
  },
  {
   "cell_type": "code",
   "execution_count": 38,
   "metadata": {},
   "outputs": [
    {
     "data": {
      "text/plain": [
       "<AxesSubplot:ylabel='Frequency'>"
      ]
     },
     "execution_count": 38,
     "metadata": {},
     "output_type": "execute_result"
    },
    {
     "data": {
      "image/png": "[encoded data removed]",
      "text/plain": [
       "<Figure size 432x288 with 1 Axes>"
      ]
     },
     "metadata": {
      "needs_background": "light"
     },
     "output_type": "display_data"
    }
   ],
   "source": [
    "df_aggs['transactions'].plot.hist(bins = 20)"
   ]
  },
  {
   "cell_type": "code",
   "execution_count": 56,
   "metadata": {},
   "outputs": [
    {
     "data": {
      "text/plain": [
       "<AxesSubplot:ylabel='Frequency'>"
      ]
     },
     "execution_count": 56,
     "metadata": {},
     "output_type": "execute_result"
    },
    {
     "data": {
      "image/png": "[encoded data removed]",
      "text/plain": [
       "<Figure size 432x288 with 1 Axes>"
      ]
     },
     "metadata": {
      "needs_background": "light"
     },
     "output_type": "display_data"
    }
   ],
   "source": [
    "df_aggs['aov'].plot.hist(bins = 20)"
   ]
  },
  {
   "cell_type": "code",
   "execution_count": 53,
   "metadata": {},
   "outputs": [
    {
     "data": {
      "text/plain": [
       "[(0.0, 12.0)]"
      ]
     },
     "execution_count": 53,
     "metadata": {},
     "output_type": "execute_result"
    },
    {
     "data": {
      "image/png": "[encoded data removed]",
      "text/plain": [
       "<Figure size 432x288 with 1 Axes>"
      ]
     },
     "metadata": {
      "needs_background": "light"
     },
     "output_type": "display_data"
    }
   ],
   "source": [
    "ax = sns.boxplot(y = df_aggs['transactions'], orient = 'v')\n",
    "ax.set(ylim = (0,12))"
   ]
  },
  {
   "cell_type": "code",
   "execution_count": 49,
   "metadata": {},
   "outputs": [
    {
     "data": {
      "text/plain": [
       "[(0.0, 1000.0)]"
      ]
     },
     "execution_count": 49,
     "metadata": {},
     "output_type": "execute_result"
    },
    {
     "data": {
      "image/png": "[encoded data removed]",
      "text/plain": [
       "<Figure size 432x288 with 1 Axes>"
      ]
     },
     "metadata": {
      "needs_background": "light"
     },
     "output_type": "display_data"
    }
   ],
   "source": [
    "ax = sns.boxplot(y = df_aggs['amount'], orient = 'v')\n",
    "ax.set(ylim = (0,1000))"
   ]
  },
  {
   "cell_type": "code",
   "execution_count": 50,
   "metadata": {},
   "outputs": [
    {
     "data": {
      "text/plain": [
       "[(0.0, 1000.0)]"
      ]
     },
     "execution_count": 50,
     "metadata": {},
     "output_type": "execute_result"
    },
    {
     "data": {
      "image/png": "[encoded data removed]",
      "text/plain": [
       "<Figure size 432x288 with 1 Axes>"
      ]
     },
     "metadata": {
      "needs_background": "light"
     },
     "output_type": "display_data"
    }
   ],
   "source": [
    "ax = sns.boxplot(x =  df['product'], y= df['aov'], orient = 'v')\n",
    "ax.set(ylim = (0,1000))"
   ]
  },
  {
   "cell_type": "markdown",
   "metadata": {},
   "source": [
    "По боксплотам видно, что выбросы есть у всех метрик, при этом очень большой размах у advanced продукта. Также большой размах у выручки (amount), когда агрегируются оба продукта. Гистограммы показывают, что подавляющее большинство значений \"относительно малы\" у транзакций и выручки. При этом распределение среднего чека похоже на экспоненциальное."
   ]
  },
  {
   "cell_type": "code",
   "execution_count": 66,
   "metadata": {},
   "outputs": [
    {
     "data": {
      "text/html": [
       "<div>\n",
       "<style scoped>\n",
       "    .dataframe tbody tr th:only-of-type {\n",
       "        vertical-align: middle;\n",
       "    }\n",
       "\n",
       "    .dataframe tbody tr th {\n",
       "        vertical-align: top;\n",
       "    }\n",
       "\n",
       "    .dataframe thead th {\n",
       "        text-align: right;\n",
       "    }\n",
       "</style>\n",
       "<table border=\"1\" class=\"dataframe\">\n",
       "  <thead>\n",
       "    <tr style=\"text-align: right;\">\n",
       "      <th></th>\n",
       "      <th>transactions</th>\n",
       "      <th>amount</th>\n",
       "      <th>aov</th>\n",
       "    </tr>\n",
       "  </thead>\n",
       "  <tbody>\n",
       "    <tr>\n",
       "      <th>count</th>\n",
       "      <td>446935.000000</td>\n",
       "      <td>446935.000000</td>\n",
       "      <td>446935.000000</td>\n",
       "    </tr>\n",
       "    <tr>\n",
       "      <th>mean</th>\n",
       "      <td>3.696954</td>\n",
       "      <td>684.835016</td>\n",
       "      <td>157.627664</td>\n",
       "    </tr>\n",
       "    <tr>\n",
       "      <th>std</th>\n",
       "      <td>16.522523</td>\n",
       "      <td>4082.887730</td>\n",
       "      <td>156.129391</td>\n",
       "    </tr>\n",
       "    <tr>\n",
       "      <th>min</th>\n",
       "      <td>1.000000</td>\n",
       "      <td>8.000000</td>\n",
       "      <td>0.680556</td>\n",
       "    </tr>\n",
       "    <tr>\n",
       "      <th>25%</th>\n",
       "      <td>1.000000</td>\n",
       "      <td>89.000000</td>\n",
       "      <td>69.333333</td>\n",
       "    </tr>\n",
       "    <tr>\n",
       "      <th>50%</th>\n",
       "      <td>1.000000</td>\n",
       "      <td>189.000000</td>\n",
       "      <td>100.000000</td>\n",
       "    </tr>\n",
       "    <tr>\n",
       "      <th>75%</th>\n",
       "      <td>2.000000</td>\n",
       "      <td>420.000000</td>\n",
       "      <td>199.000000</td>\n",
       "    </tr>\n",
       "    <tr>\n",
       "      <th>max</th>\n",
       "      <td>3070.000000</td>\n",
       "      <td>506454.000000</td>\n",
       "      <td>1869.000000</td>\n",
       "    </tr>\n",
       "  </tbody>\n",
       "</table>\n",
       "</div>"
      ],
      "text/plain": [
       "        transactions         amount            aov\n",
       "count  446935.000000  446935.000000  446935.000000\n",
       "mean        3.696954     684.835016     157.627664\n",
       "std        16.522523    4082.887730     156.129391\n",
       "min         1.000000       8.000000       0.680556\n",
       "25%         1.000000      89.000000      69.333333\n",
       "50%         1.000000     189.000000     100.000000\n",
       "75%         2.000000     420.000000     199.000000\n",
       "max      3070.000000  506454.000000    1869.000000"
      ]
     },
     "execution_count": 66,
     "metadata": {},
     "output_type": "execute_result"
    }
   ],
   "source": [
    "df_aggs.describe()"
   ]
  },
  {
   "cell_type": "markdown",
   "metadata": {},
   "source": [
    "Описательные статистики также показывают, что у транзакций и выручки есть выбросы, которые сильно выбиваются из основной массы наблюдений (например, 3 первых квартиля у транзакций имеют значения <= 2). "
   ]
  },
  {
   "cell_type": "markdown",
   "metadata": {},
   "source": [
    "Как было сказано выше, можно проверить следующие метрики: выручка (сумма amount по user_id дает выручку на одного пользователя), число транзакций (сумма transactions по user_id даст число транзакций на пользователя) и средний чек (сумма aov по user_id/число транзакций по user_id). При этом стоит разделить типы продуктов. Действительно, одна из наших гипотез включает повышение цен на базовый тип продукта, поэтому мы можем ожидать того, что движение части метрик у базового и продвинутого продуктов будут иметь противоположные направления."
   ]
  },
  {
   "cell_type": "markdown",
   "metadata": {},
   "source": [
    "Каких изменений стоит ожидать:\n",
    "    \n",
    "1. Вырастет средний чек на пользователя у базового продукта - действительно, вторая гипотеза состоит в том, что мы повышаем цену на базовый продукт. При прочих равных, это увеличит средний чек на продукт. В процентах это изменение будет примерно следующим: ((увеличение стоимости подписки/среднее число транзакций)/средний чек)*100%\n",
    "2. Упадет число пользователей базового продукта (и число транзакций с базовым продуктом): с одной стороны мы увеличиваем число пользователей (первая гипотеза), но при этом стимулируем и новых пользователей переходить на продвинутый продукт повышением цены на базовый. Заранее сложно сказать, насколько сильным будет это изменение. Можно посчитать эластичность спроса по цене, зная цену продукта (где спрос = число транзакций). В таком случае % изменения пользователей = эластичность умножить на изменение цены (в процентах).\n",
    "3. Аналогично можно предположить, что вырастет число пользователей продвинутого продукта (и число транзакций). Опять же процентное изменение можно посчитать при помощи перекрестной эластичности (продуктом-заменителем выступает базовая версия продукта).\n",
    "4. Выручка должна вырасти: мы увеличиваем и число пользователей, и число подписок на продвинутую версию продукта, хотя и уменьшится число подписок на базовую версию. Если мы знаем конверсию, а также эластичность (сколько пользователей перейдут с базовой на продвинутую), то можно попытаться оценить рост выручки в процентах. "
   ]
  },
  {
   "cell_type": "code",
   "execution_count": 67,
   "metadata": {},
   "outputs": [],
   "source": [
    "#Создадим отдельные датасеты для базовой и продвинутой подписок\n",
    "df_basic = df[df['product'] == 'basic']\n",
    "df_advanced = df[df['product'] == 'advanced']"
   ]
  },
  {
   "cell_type": "code",
   "execution_count": 69,
   "metadata": {},
   "outputs": [],
   "source": [
    "#Вспомагательная функция для расчета размера выборки \n",
    "def choose_date(data, start_date, delta, share): \n",
    "    tmp = data[(data.event_date>=start_date)&(data.event_date<=start_date+datetime.timedelta(days=delta))]\n",
    "    tmp=tmp.groupby(['user_id']).sum().reset_index()\n",
    "    x = tmp[(tmp.user_id)%100<=100*share].reset_index()\n",
    "    return x"
   ]
  },
  {
   "cell_type": "code",
   "execution_count": 85,
   "metadata": {},
   "outputs": [
    {
     "name": "stdout",
     "output_type": "stream",
     "text": [
      "0.0313161517877994\n"
     ]
    }
   ],
   "source": [
    "#Посмотрим, сколько дней нужно для детектирования изменения числа транзакций базового продукта (изменение одной транзакции от среднего ~ 0.33)\n",
    "\n",
    "x1 =choose_date(df_basic, datetime.datetime(2020, 9, 29, 0, 0),1,0.5) #получаем необходимую подвыборку, берем половину пользователей \n",
    "\n",
    "\n",
    "mean = x1.transactions.mean()\n",
    "std = x1.transactions.std()\n",
    " \n",
    "alpha = 0.01\n",
    "power = 0.8\n",
    "result_effect = -0.33 # целевой размер относительного отклоенения исходной метрики\n",
    "effect_size = (mean /std) * result_effect\n",
    " \n",
    "    \n",
    "sample_vol = tt_ind_solve_power(effect_size=effect_size, alpha=alpha, power=power, nobs1=None, ratio=1, alternative = 'two-sided')    \n",
    "print(sample_vol/x1.shape[0])# получаем множитель того, во сколько раз необходимо изменить размер выборки"
   ]
  },
  {
   "cell_type": "code",
   "execution_count": 106,
   "metadata": {},
   "outputs": [
    {
     "name": "stdout",
     "output_type": "stream",
     "text": [
      "0.085293816423148\n"
     ]
    }
   ],
   "source": [
    "#Посмотрим, сколько дней нужно для детектирования изменения числа транзакций продвинутого продукта (изменение одной транзакции от среднего ~ 0.33)\n",
    "\n",
    "x1 =choose_date(df_advanced, datetime.datetime(2020, 9, 29, 0, 0),1,0.5) #получаем необходимую подвыборку, берем половину пользователей \n",
    "\n",
    "\n",
    "mean = x1.transactions.mean()\n",
    "std = x1.transactions.std()\n",
    " \n",
    "alpha = 0.01\n",
    "power = 0.8\n",
    "result_effect = -0.33 # целевой размер относительного отклоенения исходной метрики\n",
    "effect_size = (mean /std) * result_effect\n",
    " \n",
    "    \n",
    "sample_vol = tt_ind_solve_power(effect_size=effect_size, alpha=alpha, power=power, nobs1=None, ratio=1, alternative = 'two-sided')    \n",
    "print(sample_vol/x1.shape[0])# получаем множитель того, во сколько раз необходимо изменить размер выборки"
   ]
  },
  {
   "cell_type": "markdown",
   "metadata": {},
   "source": [
    "Видим, что даже одного дня достаточно, чтобы задетектировать такие изменения, поэтому транзакции можно включить в эксперимент."
   ]
  },
  {
   "cell_type": "code",
   "execution_count": 101,
   "metadata": {},
   "outputs": [
    {
     "name": "stdout",
     "output_type": "stream",
     "text": [
      "0.4560121371655364\n"
     ]
    }
   ],
   "source": [
    "#Средний чек для базового, поймаем ли изменение в 5%\n",
    "\n",
    "x1 =choose_date(df_basic, datetime.datetime(2020, 9, 29, 0, 0),1,0.5) #получаем необходимую подвыборку, берем половину пользователей \n",
    "\n",
    "\n",
    "mean = x1.aov.mean()\n",
    "std = x1.aov.std()\n",
    " \n",
    "alpha = 0.01\n",
    "power = 0.8\n",
    "result_effect = -0.05 # целевой размер относительного отклоенения исходной метрики\n",
    "effect_size = (mean /std) * result_effect\n",
    " \n",
    "    \n",
    "sample_vol = tt_ind_solve_power(effect_size=effect_size, alpha=alpha, power=power, nobs1=None, ratio=1, alternative = 'two-sided')    \n",
    "print(sample_vol/x1.shape[0])# получаем множитель того, во сколько раз необходимо изменить размер выборки"
   ]
  },
  {
   "cell_type": "markdown",
   "metadata": {},
   "source": [
    "Видим, что опять же изменение среднего чека на 5% детектируется довольно быстро."
   ]
  },
  {
   "cell_type": "code",
   "execution_count": 105,
   "metadata": {},
   "outputs": [
    {
     "name": "stdout",
     "output_type": "stream",
     "text": [
      "1.7396743725933945\n"
     ]
    }
   ],
   "source": [
    "#Средний чек для продвинутого, поймаем ли изменение в 5%\n",
    "\n",
    "x1 =choose_date(df_advanced, datetime.datetime(2020, 9, 29, 0, 0),90,0.5) #получаем необходимую подвыборку, берем половину пользователей \n",
    "\n",
    "\n",
    "mean = x1.aov.mean()\n",
    "std = x1.aov.std()\n",
    " \n",
    "alpha = 0.01\n",
    "power = 0.8\n",
    "result_effect = -0.05 # целевой размер относительного отклоенения исходной метрики\n",
    "effect_size = (mean /std) * result_effect\n",
    " \n",
    "    \n",
    "sample_vol = tt_ind_solve_power(effect_size=effect_size, alpha=alpha, power=power, nobs1=None, ratio=1, alternative = 'two-sided')    \n",
    "print(sample_vol/x1.shape[0])# получаем множитель того, во сколько раз необходимо изменить размер выборки"
   ]
  },
  {
   "cell_type": "markdown",
   "metadata": {},
   "source": [
    "Для продвинутого продукта средний чек не детектируется за квартал, так что не включаем в эксперимент. Проверим выручку."
   ]
  },
  {
   "cell_type": "code",
   "execution_count": 114,
   "metadata": {},
   "outputs": [
    {
     "name": "stdout",
     "output_type": "stream",
     "text": [
      "1.2162210408906706\n"
     ]
    }
   ],
   "source": [
    "#Выручка для базового, поймаем ли изменение в 5%\n",
    "\n",
    "x1 =choose_date(df_basic, datetime.datetime(2020, 9, 29, 0, 0),90,0.5) #получаем необходимую подвыборку, берем половину пользователей \n",
    "\n",
    "\n",
    "mean = x1.amount.mean()\n",
    "std = x1.amount.std()\n",
    " \n",
    "alpha = 0.01\n",
    "power = 0.8\n",
    "result_effect = -0.05 # целевой размер относительного отклоенения исходной метрики\n",
    "effect_size = (mean /std) * result_effect\n",
    " \n",
    "    \n",
    "sample_vol = tt_ind_solve_power(effect_size=effect_size, alpha=alpha, power=power, nobs1=None, ratio=1, alternative = 'two-sided')    \n",
    "print(sample_vol/x1.shape[0])# получаем множитель того, во сколько раз необходимо изменить размер выборки"
   ]
  },
  {
   "cell_type": "markdown",
   "metadata": {},
   "source": [
    "Выручка для базового не детектируется."
   ]
  },
  {
   "cell_type": "code",
   "execution_count": 118,
   "metadata": {},
   "outputs": [
    {
     "name": "stdout",
     "output_type": "stream",
     "text": [
      "4.859481089927956\n"
     ]
    }
   ],
   "source": [
    "#Выручка для продвинутого, поймаем ли изменение в 5%\n",
    "\n",
    "x1 =choose_date(df_advanced, datetime.datetime(2020, 9, 29, 0, 0),90,0.5) #получаем необходимую подвыборку, берем половину пользователей \n",
    "\n",
    "\n",
    "mean = x1.amount.mean()\n",
    "std = x1.amount.std()\n",
    " \n",
    "alpha = 0.01\n",
    "power = 0.8\n",
    "result_effect = -0.05 # целевой размер относительного отклоенения исходной метрики\n",
    "effect_size = (mean /std) * result_effect\n",
    " \n",
    "    \n",
    "sample_vol = tt_ind_solve_power(effect_size=effect_size, alpha=alpha, power=power, nobs1=None, ratio=1, alternative = 'two-sided')    \n",
    "print(sample_vol/x1.shape[0])# получаем множитель того, во сколько раз необходимо изменить размер выборки"
   ]
  },
  {
   "cell_type": "markdown",
   "metadata": {},
   "source": [
    "Выручка опять же не детектируется, попробуем для обоих продуктов."
   ]
  },
  {
   "cell_type": "code",
   "execution_count": 119,
   "metadata": {},
   "outputs": [
    {
     "name": "stdout",
     "output_type": "stream",
     "text": [
      "1.5657408365031915\n"
     ]
    }
   ],
   "source": [
    "#Выручка для продвинутого, поймаем ли изменение в 5%\n",
    "\n",
    "x1 =choose_date(df, datetime.datetime(2020, 9, 29, 0, 0),90,0.5) #получаем необходимую подвыборку, берем половину пользователей \n",
    "\n",
    "\n",
    "mean = x1.amount.mean()\n",
    "std = x1.amount.std()\n",
    " \n",
    "alpha = 0.01\n",
    "power = 0.8\n",
    "result_effect = -0.05 # целевой размер относительного отклоенения исходной метрики\n",
    "effect_size = (mean /std) * result_effect\n",
    " \n",
    "    \n",
    "sample_vol = tt_ind_solve_power(effect_size=effect_size, alpha=alpha, power=power, nobs1=None, ratio=1, alternative = 'two-sided')    \n",
    "print(sample_vol/x1.shape[0])# получаем множитель того, во сколько раз необходимо изменить размер выборки"
   ]
  },
  {
   "cell_type": "markdown",
   "metadata": {},
   "source": [
    "Опять же не детектируется, чувствительность денежных метрик: среднего чека и выручки оставляет желать лучшего. Быстро можно отловить изменение числа транзакций и средний чек базового продукта - это как раз даст прокси для выручки. Для продвинутого продукта стоит снизить чувствительность и попытаться поймать бОльшее изменение. Поэтому эксперимент может быть таким:\n",
    "\n",
    "1) Запускаем для базового продукта (детектируем изменение среднего чека и числа транзакций)\n",
    "2) На продвинутом смотрим на изменение числа транзакций, либо соглашаемся на меньшую чувствительность и детектируем средний чек/выручку.\n",
    "\n",
    "Запуски лучше не делать короткими (делать хотя бы по месяцу), поскольку запускаем в начале года - есть большая вероятность нарваться на сезонный эффект начала года и поймать эти эффекты."
   ]
  },
  {
   "cell_type": "markdown",
   "metadata": {},
   "source": [
    "Можно постараться оптимизировать посредством уменьшения чувствительности, а также пытаться поймать эффект не по отдельным продуктам, а сразу по обоим - в таком случае получим больше пользователей в выборке - меньше доверительный интервал - больше чувствительность. Из рисков такого решения то, что мы можем допустить ошибку второго рода: реальное изменение было на 4%, а мы решили детектировать 10%, тогда реальное изменение пропускаем и принимаем ошибочное решение, что гипотезы неверны."
   ]
  },
  {
   "cell_type": "code",
   "execution_count": null,
   "metadata": {},
   "outputs": [],
   "source": []
  },
  {
   "cell_type": "code",
   "execution_count": null,
   "metadata": {},
   "outputs": [],
   "source": []
  }
 ],
 "metadata": {
  "kernelspec": {
   "display_name": "Python 3 (ipykernel)",
   "language": "python",
   "name": "python3"
  },
  "language_info": {
   "codemirror_mode": {
    "name": "ipython",
    "version": 3
   },
   "file_extension": ".py",
   "mimetype": "text/x-python",
   "name": "python",
   "nbconvert_exporter": "python",
   "pygments_lexer": "ipython3",
   "version": "3.8.5"
  }
 },
 "nbformat": 4,
 "nbformat_minor": 4
}
